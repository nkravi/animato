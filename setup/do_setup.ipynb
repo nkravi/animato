{
 "metadata": {
  "name": "",
  "signature": "sha256:6d1c9bc1a5ac06dcd23ee9c8404e81fbfd916e9d988f28144dd06f288d4a8a29"
 },
 "nbformat": 3,
 "nbformat_minor": 0,
 "worksheets": [
  {
   "cells": [
    {
     "cell_type": "code",
     "collapsed": false,
     "input": [
      "import boto\n",
      "import boto.ec2\n",
      "import ConfigParser\n",
      "import base64\n",
      "import boto.sqs\n",
      "import boto.s3.connection\n",
      "import boto.dynamodb\n",
      "import shutil\n",
      "import os"
     ],
     "language": "python",
     "metadata": {},
     "outputs": [],
     "prompt_number": 2
    },
    {
     "cell_type": "code",
     "collapsed": false,
     "input": [
      "#read config file\n",
      "def read_config_file(file_name):\n",
      "    config = ConfigParser.RawConfigParser()\n",
      "    config.read(file_name)\n",
      "    return config"
     ],
     "language": "python",
     "metadata": {},
     "outputs": [],
     "prompt_number": 3
    },
    {
     "cell_type": "code",
     "collapsed": false,
     "input": [
      "config = read_config_file('../config/config.cfg')"
     ],
     "language": "python",
     "metadata": {},
     "outputs": [],
     "prompt_number": 35
    },
    {
     "cell_type": "code",
     "collapsed": false,
     "input": [
      "#upload config file to s3\n",
      "def upload_config_file(file_name):\n",
      "    conn = boto.connect_s3(\n",
      "        aws_access_key_id= config.get('AWS_CRED','AWS_ACCESS_KEY_ID'),\n",
      "        aws_secret_access_key = config.get('AWS_CRED','AWS_SECRECT_ACCESS_KEY')\n",
      "        )\n",
      "    #read from S3\n",
      "    s3obj = conn.get_bucket('proj4.config')\n",
      "    if s3obj:\n",
      "        key = s3obj.get_key('config.cfg')\n",
      "        key.set_contents_from_filename(file_name)"
     ],
     "language": "python",
     "metadata": {},
     "outputs": [],
     "prompt_number": 36
    },
    {
     "cell_type": "code",
     "collapsed": false,
     "input": [
      "upload_config_file('../config/config.cfg')"
     ],
     "language": "python",
     "metadata": {},
     "outputs": [],
     "prompt_number": 37
    },
    {
     "cell_type": "code",
     "collapsed": false,
     "input": [
      "#sqs connection \n",
      "connsqs = boto.sqs.connect_to_region( config.get('AWS_CRED','REGION'),\n",
      "                                   aws_access_key_id= config.get('AWS_CRED','AWS_ACCESS_KEY_ID'),\n",
      "                                   aws_secret_access_key=config.get('AWS_CRED','AWS_SECRECT_ACCESS_KEY'))"
     ],
     "language": "python",
     "metadata": {},
     "outputs": [],
     "prompt_number": 5
    },
    {
     "cell_type": "code",
     "collapsed": false,
     "input": [
      "#create queue\n",
      "q = connsqs.create_queue(config.get('SQS','QUEUE_NAME'), \n",
      "                          config.get('SQS','TIME_OUT'))"
     ],
     "language": "python",
     "metadata": {},
     "outputs": [],
     "prompt_number": 8
    },
    {
     "cell_type": "code",
     "collapsed": false,
     "input": [
      "q"
     ],
     "language": "python",
     "metadata": {},
     "outputs": [
      {
       "metadata": {},
       "output_type": "pyout",
       "prompt_number": 9,
       "text": [
        "Queue(https://queue.amazonaws.com/286551142345/requestqueue)"
       ]
      }
     ],
     "prompt_number": 9
    },
    {
     "cell_type": "code",
     "collapsed": false,
     "input": [
      "#dynamo DB connection\n",
      "conndynamo = boto.dynamodb.connect_to_region( config.get('AWS_CRED','REGION'),\n",
      "                                   aws_access_key_id= config.get('AWS_CRED','AWS_ACCESS_KEY_ID'),\n",
      "                                   aws_secret_access_key=config.get('AWS_CRED','AWS_SECRECT_ACCESS_KEY'))\n"
     ],
     "language": "python",
     "metadata": {},
     "outputs": [],
     "prompt_number": 11
    },
    {
     "cell_type": "code",
     "collapsed": false,
     "input": [
      "#create schema\n",
      "message_table_schema = conndynamo.create_schema(\n",
      "        hash_key_name=config.get('DYNAMODB','HASH_KEY'),\n",
      "        hash_key_proto_value=str,\n",
      "    )"
     ],
     "language": "python",
     "metadata": {},
     "outputs": [],
     "prompt_number": 12
    },
    {
     "cell_type": "code",
     "collapsed": false,
     "input": [
      "#create table\n",
      "table = conndynamo.create_table(\n",
      "        name= config.get('DYNAMODB','TABLE_NAME'),\n",
      "        schema=message_table_schema,\n",
      "        read_units= long(config.get('DYNAMODB','READ_UNITS')),\n",
      "        write_units=long(config.get('DYNAMODB','WRITE_UNITS'))\n",
      "    )"
     ],
     "language": "python",
     "metadata": {},
     "outputs": [],
     "prompt_number": 13
    },
    {
     "cell_type": "code",
     "collapsed": false,
     "input": [
      "table"
     ],
     "language": "python",
     "metadata": {},
     "outputs": [
      {
       "metadata": {},
       "output_type": "pyout",
       "prompt_number": 14,
       "text": [
        "Table(JobScheduler)"
       ]
      }
     ],
     "prompt_number": 14
    },
    {
     "cell_type": "code",
     "collapsed": false,
     "input": [
      "#get connection ec2\n",
      "conn = boto.ec2.connect_to_region(config.get('AWS_CRED','REGION'),\n",
      "                                  aws_access_key_id= config.get('AWS_CRED','AWS_ACCESS_KEY_ID'),\n",
      "                                  aws_secret_access_key=config.get('AWS_CRED','AWS_SECRECT_ACCESS_KEY'))"
     ],
     "language": "python",
     "metadata": {},
     "outputs": [],
     "prompt_number": 15
    },
    {
     "cell_type": "code",
     "collapsed": false,
     "input": [
      "#create security group for web server\n",
      "web_security_grp = conn.create_security_group(config.get('WEB_SERVER','SEQURITY_GROUP_NAME'),\n",
      "                                 config.get('WEB_SERVER','SEQURITY_GROUP_NAME_DESC'))\n",
      "web_security_grp.authorize('tcp', 80, 80, '0.0.0.0/0')\n",
      "web_security_grp.authorize('tcp', 22, 22, '0.0.0.0/0')\n"
     ],
     "language": "python",
     "metadata": {},
     "outputs": [
      {
       "metadata": {},
       "output_type": "pyout",
       "prompt_number": 16,
       "text": [
        "True"
       ]
      }
     ],
     "prompt_number": 16
    },
    {
     "cell_type": "code",
     "collapsed": false,
     "input": [
      "#create security group for worker\n",
      "worker_security_grp = conn.create_security_group(config.get('WORKER','SEQURITY_GROUP_NAME'),\n",
      "                                 config.get('WORKER','SEQURITY_GROUP_NAME_DESC'))\n",
      "\n",
      "worker_security_grp.authorize('tcp', 22, 22, '0.0.0.0/0')\n"
     ],
     "language": "python",
     "metadata": {},
     "outputs": [
      {
       "metadata": {},
       "output_type": "pyout",
       "prompt_number": 17,
       "text": [
        "True"
       ]
      }
     ],
     "prompt_number": 17
    },
    {
     "cell_type": "code",
     "collapsed": false,
     "input": [
      "#create security group for watcher\n",
      "watcher_security_grp = conn.create_security_group(config.get('WATCHER','SEQURITY_GROUP_NAME'),\n",
      "                                 config.get('WATCHER','SEQURITY_GROUP_NAME_DESC'))\n",
      "\n",
      "watcher_security_grp.authorize('tcp', 22, 22, '0.0.0.0/0')"
     ],
     "language": "python",
     "metadata": {},
     "outputs": [
      {
       "metadata": {},
       "output_type": "pyout",
       "prompt_number": 18,
       "text": [
        "True"
       ]
      }
     ],
     "prompt_number": 18
    },
    {
     "cell_type": "code",
     "collapsed": false,
     "input": [
      "start_server_code = \"\"\"#!/bin/sh\n",
      "python /home/ec2-user/webserver/webserver.py\n",
      "\"\"\""
     ],
     "language": "python",
     "metadata": {},
     "outputs": [],
     "prompt_number": 19
    },
    {
     "cell_type": "code",
     "collapsed": false,
     "input": [
      "#launch webserver instance\n",
      "conn.run_instances(config.get('WEB_SERVER','IMAGE_ID'),\n",
      "        key_name=  config.get('AWS_CRED','KEY_NAME'),\n",
      "        instance_type= config.get('WEB_SERVER','INSTANCE_TYPE'),\n",
      "        security_groups= [web_security_grp],\n",
      "        user_data = start_server_code\n",
      "        )"
     ],
     "language": "python",
     "metadata": {},
     "outputs": [
      {
       "metadata": {},
       "output_type": "pyout",
       "prompt_number": 22,
       "text": [
        "Reservation:r-dd3c9e33"
       ]
      }
     ],
     "prompt_number": 22
    },
    {
     "cell_type": "code",
     "collapsed": false,
     "input": [
      "start_watcher_code = \"\"\"#!/bin/sh\n",
      "python /home/ec2-user/watcher/watcher.py\n",
      "\"\"\""
     ],
     "language": "python",
     "metadata": {},
     "outputs": [],
     "prompt_number": 25
    },
    {
     "cell_type": "code",
     "collapsed": false,
     "input": [
      "#launch worker instance\n",
      "conn.run_instances(config.get('WATCHER','IMAGE_ID'),\n",
      "        key_name=  config.get('AWS_CRED','KEY_NAME'),\n",
      "        instance_type= config.get('WATCHER','INSTANCE_TYPE'),\n",
      "        security_groups= [watcher_security_grp],\n",
      "        user_data = start_watcher_code\n",
      "        )"
     ],
     "language": "python",
     "metadata": {},
     "outputs": [
      {
       "metadata": {},
       "output_type": "pyout",
       "prompt_number": 26,
       "text": [
        "Reservation:r-4f3f9da1"
       ]
      }
     ],
     "prompt_number": 26
    },
    {
     "cell_type": "code",
     "collapsed": false,
     "input": [],
     "language": "python",
     "metadata": {},
     "outputs": []
    }
   ],
   "metadata": {}
  }
 ]
}